{
  "nbformat": 4,
  "nbformat_minor": 0,
  "metadata": {
    "colab": {
      "name": "GAN_exercise_dreamgonfly.ipynb",
      "provenance": [],
      "collapsed_sections": []
    },
    "kernelspec": {
      "name": "python3",
      "display_name": "Python 3"
    },
    "language_info": {
      "name": "python"
    },
    "accelerator": "GPU",
    "widgets": {
      "application/vnd.jupyter.widget-state+json": {
        "49a4c9323da34bd4b2a36921b80da18b": {
          "model_module": "@jupyter-widgets/controls",
          "model_name": "HBoxModel",
          "state": {
            "_view_name": "HBoxView",
            "_dom_classes": [],
            "_model_name": "HBoxModel",
            "_view_module": "@jupyter-widgets/controls",
            "_model_module_version": "1.5.0",
            "_view_count": null,
            "_view_module_version": "1.5.0",
            "box_style": "",
            "layout": "IPY_MODEL_16fbbe17b9344e3189cea9d4a28e0426",
            "_model_module": "@jupyter-widgets/controls",
            "children": [
              "IPY_MODEL_643d32e4e125445d876a3a5804a6c803",
              "IPY_MODEL_f3d3fc5af65b43f0ae1fdacc39432c7e"
            ]
          }
        },
        "16fbbe17b9344e3189cea9d4a28e0426": {
          "model_module": "@jupyter-widgets/base",
          "model_name": "LayoutModel",
          "state": {
            "_view_name": "LayoutView",
            "grid_template_rows": null,
            "right": null,
            "justify_content": null,
            "_view_module": "@jupyter-widgets/base",
            "overflow": null,
            "_model_module_version": "1.2.0",
            "_view_count": null,
            "flex_flow": null,
            "width": null,
            "min_width": null,
            "border": null,
            "align_items": null,
            "bottom": null,
            "_model_module": "@jupyter-widgets/base",
            "top": null,
            "grid_column": null,
            "overflow_y": null,
            "overflow_x": null,
            "grid_auto_flow": null,
            "grid_area": null,
            "grid_template_columns": null,
            "flex": null,
            "_model_name": "LayoutModel",
            "justify_items": null,
            "grid_row": null,
            "max_height": null,
            "align_content": null,
            "visibility": null,
            "align_self": null,
            "height": null,
            "min_height": null,
            "padding": null,
            "grid_auto_rows": null,
            "grid_gap": null,
            "max_width": null,
            "order": null,
            "_view_module_version": "1.2.0",
            "grid_template_areas": null,
            "object_position": null,
            "object_fit": null,
            "grid_auto_columns": null,
            "margin": null,
            "display": null,
            "left": null
          }
        },
        "643d32e4e125445d876a3a5804a6c803": {
          "model_module": "@jupyter-widgets/controls",
          "model_name": "FloatProgressModel",
          "state": {
            "_view_name": "ProgressView",
            "style": "IPY_MODEL_23568bdfaaa842beb07e01cd0cc3c872",
            "_dom_classes": [],
            "description": "",
            "_model_name": "FloatProgressModel",
            "bar_style": "success",
            "max": 9912422,
            "_view_module": "@jupyter-widgets/controls",
            "_model_module_version": "1.5.0",
            "value": 9912422,
            "_view_count": null,
            "_view_module_version": "1.5.0",
            "orientation": "horizontal",
            "min": 0,
            "description_tooltip": null,
            "_model_module": "@jupyter-widgets/controls",
            "layout": "IPY_MODEL_b5e59ab5c12a4f7e9c77e6c1c04558b1"
          }
        },
        "f3d3fc5af65b43f0ae1fdacc39432c7e": {
          "model_module": "@jupyter-widgets/controls",
          "model_name": "HTMLModel",
          "state": {
            "_view_name": "HTMLView",
            "style": "IPY_MODEL_20751e274d554442a6211d60c6ad8482",
            "_dom_classes": [],
            "description": "",
            "_model_name": "HTMLModel",
            "placeholder": "​",
            "_view_module": "@jupyter-widgets/controls",
            "_model_module_version": "1.5.0",
            "value": " 9913344/? [03:38&lt;00:00, 45321.74it/s]",
            "_view_count": null,
            "_view_module_version": "1.5.0",
            "description_tooltip": null,
            "_model_module": "@jupyter-widgets/controls",
            "layout": "IPY_MODEL_a76fd067b3954949b813fc6e2eb067ad"
          }
        },
        "23568bdfaaa842beb07e01cd0cc3c872": {
          "model_module": "@jupyter-widgets/controls",
          "model_name": "ProgressStyleModel",
          "state": {
            "_view_name": "StyleView",
            "_model_name": "ProgressStyleModel",
            "description_width": "initial",
            "_view_module": "@jupyter-widgets/base",
            "_model_module_version": "1.5.0",
            "_view_count": null,
            "_view_module_version": "1.2.0",
            "bar_color": null,
            "_model_module": "@jupyter-widgets/controls"
          }
        },
        "b5e59ab5c12a4f7e9c77e6c1c04558b1": {
          "model_module": "@jupyter-widgets/base",
          "model_name": "LayoutModel",
          "state": {
            "_view_name": "LayoutView",
            "grid_template_rows": null,
            "right": null,
            "justify_content": null,
            "_view_module": "@jupyter-widgets/base",
            "overflow": null,
            "_model_module_version": "1.2.0",
            "_view_count": null,
            "flex_flow": null,
            "width": null,
            "min_width": null,
            "border": null,
            "align_items": null,
            "bottom": null,
            "_model_module": "@jupyter-widgets/base",
            "top": null,
            "grid_column": null,
            "overflow_y": null,
            "overflow_x": null,
            "grid_auto_flow": null,
            "grid_area": null,
            "grid_template_columns": null,
            "flex": null,
            "_model_name": "LayoutModel",
            "justify_items": null,
            "grid_row": null,
            "max_height": null,
            "align_content": null,
            "visibility": null,
            "align_self": null,
            "height": null,
            "min_height": null,
            "padding": null,
            "grid_auto_rows": null,
            "grid_gap": null,
            "max_width": null,
            "order": null,
            "_view_module_version": "1.2.0",
            "grid_template_areas": null,
            "object_position": null,
            "object_fit": null,
            "grid_auto_columns": null,
            "margin": null,
            "display": null,
            "left": null
          }
        },
        "20751e274d554442a6211d60c6ad8482": {
          "model_module": "@jupyter-widgets/controls",
          "model_name": "DescriptionStyleModel",
          "state": {
            "_view_name": "StyleView",
            "_model_name": "DescriptionStyleModel",
            "description_width": "",
            "_view_module": "@jupyter-widgets/base",
            "_model_module_version": "1.5.0",
            "_view_count": null,
            "_view_module_version": "1.2.0",
            "_model_module": "@jupyter-widgets/controls"
          }
        },
        "a76fd067b3954949b813fc6e2eb067ad": {
          "model_module": "@jupyter-widgets/base",
          "model_name": "LayoutModel",
          "state": {
            "_view_name": "LayoutView",
            "grid_template_rows": null,
            "right": null,
            "justify_content": null,
            "_view_module": "@jupyter-widgets/base",
            "overflow": null,
            "_model_module_version": "1.2.0",
            "_view_count": null,
            "flex_flow": null,
            "width": null,
            "min_width": null,
            "border": null,
            "align_items": null,
            "bottom": null,
            "_model_module": "@jupyter-widgets/base",
            "top": null,
            "grid_column": null,
            "overflow_y": null,
            "overflow_x": null,
            "grid_auto_flow": null,
            "grid_area": null,
            "grid_template_columns": null,
            "flex": null,
            "_model_name": "LayoutModel",
            "justify_items": null,
            "grid_row": null,
            "max_height": null,
            "align_content": null,
            "visibility": null,
            "align_self": null,
            "height": null,
            "min_height": null,
            "padding": null,
            "grid_auto_rows": null,
            "grid_gap": null,
            "max_width": null,
            "order": null,
            "_view_module_version": "1.2.0",
            "grid_template_areas": null,
            "object_position": null,
            "object_fit": null,
            "grid_auto_columns": null,
            "margin": null,
            "display": null,
            "left": null
          }
        },
        "65063d8541b746079c6306326bafc685": {
          "model_module": "@jupyter-widgets/controls",
          "model_name": "HBoxModel",
          "state": {
            "_view_name": "HBoxView",
            "_dom_classes": [],
            "_model_name": "HBoxModel",
            "_view_module": "@jupyter-widgets/controls",
            "_model_module_version": "1.5.0",
            "_view_count": null,
            "_view_module_version": "1.5.0",
            "box_style": "",
            "layout": "IPY_MODEL_ccb56b4b4f1d41618ee086ac78b63430",
            "_model_module": "@jupyter-widgets/controls",
            "children": [
              "IPY_MODEL_e469289f3a8b46adb2048e54df837afc",
              "IPY_MODEL_7e9afccdd6a441938ac647141d91236c"
            ]
          }
        },
        "ccb56b4b4f1d41618ee086ac78b63430": {
          "model_module": "@jupyter-widgets/base",
          "model_name": "LayoutModel",
          "state": {
            "_view_name": "LayoutView",
            "grid_template_rows": null,
            "right": null,
            "justify_content": null,
            "_view_module": "@jupyter-widgets/base",
            "overflow": null,
            "_model_module_version": "1.2.0",
            "_view_count": null,
            "flex_flow": null,
            "width": null,
            "min_width": null,
            "border": null,
            "align_items": null,
            "bottom": null,
            "_model_module": "@jupyter-widgets/base",
            "top": null,
            "grid_column": null,
            "overflow_y": null,
            "overflow_x": null,
            "grid_auto_flow": null,
            "grid_area": null,
            "grid_template_columns": null,
            "flex": null,
            "_model_name": "LayoutModel",
            "justify_items": null,
            "grid_row": null,
            "max_height": null,
            "align_content": null,
            "visibility": null,
            "align_self": null,
            "height": null,
            "min_height": null,
            "padding": null,
            "grid_auto_rows": null,
            "grid_gap": null,
            "max_width": null,
            "order": null,
            "_view_module_version": "1.2.0",
            "grid_template_areas": null,
            "object_position": null,
            "object_fit": null,
            "grid_auto_columns": null,
            "margin": null,
            "display": null,
            "left": null
          }
        },
        "e469289f3a8b46adb2048e54df837afc": {
          "model_module": "@jupyter-widgets/controls",
          "model_name": "FloatProgressModel",
          "state": {
            "_view_name": "ProgressView",
            "style": "IPY_MODEL_3594011d93e44713b1bea7cf38cb7205",
            "_dom_classes": [],
            "description": "",
            "_model_name": "FloatProgressModel",
            "bar_style": "success",
            "max": 28881,
            "_view_module": "@jupyter-widgets/controls",
            "_model_module_version": "1.5.0",
            "value": 28881,
            "_view_count": null,
            "_view_module_version": "1.5.0",
            "orientation": "horizontal",
            "min": 0,
            "description_tooltip": null,
            "_model_module": "@jupyter-widgets/controls",
            "layout": "IPY_MODEL_93d84ca755984ee59564f2cce11cac50"
          }
        },
        "7e9afccdd6a441938ac647141d91236c": {
          "model_module": "@jupyter-widgets/controls",
          "model_name": "HTMLModel",
          "state": {
            "_view_name": "HTMLView",
            "style": "IPY_MODEL_cd107ee3ee244a7191b889af1d039374",
            "_dom_classes": [],
            "description": "",
            "_model_name": "HTMLModel",
            "placeholder": "​",
            "_view_module": "@jupyter-widgets/controls",
            "_model_module_version": "1.5.0",
            "value": " 29696/? [00:56&lt;00:00, 522.29it/s]",
            "_view_count": null,
            "_view_module_version": "1.5.0",
            "description_tooltip": null,
            "_model_module": "@jupyter-widgets/controls",
            "layout": "IPY_MODEL_b8ba063c551c441496958d091abe8f69"
          }
        },
        "3594011d93e44713b1bea7cf38cb7205": {
          "model_module": "@jupyter-widgets/controls",
          "model_name": "ProgressStyleModel",
          "state": {
            "_view_name": "StyleView",
            "_model_name": "ProgressStyleModel",
            "description_width": "initial",
            "_view_module": "@jupyter-widgets/base",
            "_model_module_version": "1.5.0",
            "_view_count": null,
            "_view_module_version": "1.2.0",
            "bar_color": null,
            "_model_module": "@jupyter-widgets/controls"
          }
        },
        "93d84ca755984ee59564f2cce11cac50": {
          "model_module": "@jupyter-widgets/base",
          "model_name": "LayoutModel",
          "state": {
            "_view_name": "LayoutView",
            "grid_template_rows": null,
            "right": null,
            "justify_content": null,
            "_view_module": "@jupyter-widgets/base",
            "overflow": null,
            "_model_module_version": "1.2.0",
            "_view_count": null,
            "flex_flow": null,
            "width": null,
            "min_width": null,
            "border": null,
            "align_items": null,
            "bottom": null,
            "_model_module": "@jupyter-widgets/base",
            "top": null,
            "grid_column": null,
            "overflow_y": null,
            "overflow_x": null,
            "grid_auto_flow": null,
            "grid_area": null,
            "grid_template_columns": null,
            "flex": null,
            "_model_name": "LayoutModel",
            "justify_items": null,
            "grid_row": null,
            "max_height": null,
            "align_content": null,
            "visibility": null,
            "align_self": null,
            "height": null,
            "min_height": null,
            "padding": null,
            "grid_auto_rows": null,
            "grid_gap": null,
            "max_width": null,
            "order": null,
            "_view_module_version": "1.2.0",
            "grid_template_areas": null,
            "object_position": null,
            "object_fit": null,
            "grid_auto_columns": null,
            "margin": null,
            "display": null,
            "left": null
          }
        },
        "cd107ee3ee244a7191b889af1d039374": {
          "model_module": "@jupyter-widgets/controls",
          "model_name": "DescriptionStyleModel",
          "state": {
            "_view_name": "StyleView",
            "_model_name": "DescriptionStyleModel",
            "description_width": "",
            "_view_module": "@jupyter-widgets/base",
            "_model_module_version": "1.5.0",
            "_view_count": null,
            "_view_module_version": "1.2.0",
            "_model_module": "@jupyter-widgets/controls"
          }
        },
        "b8ba063c551c441496958d091abe8f69": {
          "model_module": "@jupyter-widgets/base",
          "model_name": "LayoutModel",
          "state": {
            "_view_name": "LayoutView",
            "grid_template_rows": null,
            "right": null,
            "justify_content": null,
            "_view_module": "@jupyter-widgets/base",
            "overflow": null,
            "_model_module_version": "1.2.0",
            "_view_count": null,
            "flex_flow": null,
            "width": null,
            "min_width": null,
            "border": null,
            "align_items": null,
            "bottom": null,
            "_model_module": "@jupyter-widgets/base",
            "top": null,
            "grid_column": null,
            "overflow_y": null,
            "overflow_x": null,
            "grid_auto_flow": null,
            "grid_area": null,
            "grid_template_columns": null,
            "flex": null,
            "_model_name": "LayoutModel",
            "justify_items": null,
            "grid_row": null,
            "max_height": null,
            "align_content": null,
            "visibility": null,
            "align_self": null,
            "height": null,
            "min_height": null,
            "padding": null,
            "grid_auto_rows": null,
            "grid_gap": null,
            "max_width": null,
            "order": null,
            "_view_module_version": "1.2.0",
            "grid_template_areas": null,
            "object_position": null,
            "object_fit": null,
            "grid_auto_columns": null,
            "margin": null,
            "display": null,
            "left": null
          }
        },
        "6427d400068845e79c1a4d939c2c162c": {
          "model_module": "@jupyter-widgets/controls",
          "model_name": "HBoxModel",
          "state": {
            "_view_name": "HBoxView",
            "_dom_classes": [],
            "_model_name": "HBoxModel",
            "_view_module": "@jupyter-widgets/controls",
            "_model_module_version": "1.5.0",
            "_view_count": null,
            "_view_module_version": "1.5.0",
            "box_style": "",
            "layout": "IPY_MODEL_6fa6c9efdb8b458d9a1a15c94f814b09",
            "_model_module": "@jupyter-widgets/controls",
            "children": [
              "IPY_MODEL_3bb7c258d01a4ca88bb124d200e9c813",
              "IPY_MODEL_caefec0918f549d793847e030320e963"
            ]
          }
        },
        "6fa6c9efdb8b458d9a1a15c94f814b09": {
          "model_module": "@jupyter-widgets/base",
          "model_name": "LayoutModel",
          "state": {
            "_view_name": "LayoutView",
            "grid_template_rows": null,
            "right": null,
            "justify_content": null,
            "_view_module": "@jupyter-widgets/base",
            "overflow": null,
            "_model_module_version": "1.2.0",
            "_view_count": null,
            "flex_flow": null,
            "width": null,
            "min_width": null,
            "border": null,
            "align_items": null,
            "bottom": null,
            "_model_module": "@jupyter-widgets/base",
            "top": null,
            "grid_column": null,
            "overflow_y": null,
            "overflow_x": null,
            "grid_auto_flow": null,
            "grid_area": null,
            "grid_template_columns": null,
            "flex": null,
            "_model_name": "LayoutModel",
            "justify_items": null,
            "grid_row": null,
            "max_height": null,
            "align_content": null,
            "visibility": null,
            "align_self": null,
            "height": null,
            "min_height": null,
            "padding": null,
            "grid_auto_rows": null,
            "grid_gap": null,
            "max_width": null,
            "order": null,
            "_view_module_version": "1.2.0",
            "grid_template_areas": null,
            "object_position": null,
            "object_fit": null,
            "grid_auto_columns": null,
            "margin": null,
            "display": null,
            "left": null
          }
        },
        "3bb7c258d01a4ca88bb124d200e9c813": {
          "model_module": "@jupyter-widgets/controls",
          "model_name": "FloatProgressModel",
          "state": {
            "_view_name": "ProgressView",
            "style": "IPY_MODEL_85dcfd081e9c4af19650d06177d27095",
            "_dom_classes": [],
            "description": "",
            "_model_name": "FloatProgressModel",
            "bar_style": "success",
            "max": 1648877,
            "_view_module": "@jupyter-widgets/controls",
            "_model_module_version": "1.5.0",
            "value": 1648877,
            "_view_count": null,
            "_view_module_version": "1.5.0",
            "orientation": "horizontal",
            "min": 0,
            "description_tooltip": null,
            "_model_module": "@jupyter-widgets/controls",
            "layout": "IPY_MODEL_9fb77d9721ed4bce958e4e3537fe7ba2"
          }
        },
        "caefec0918f549d793847e030320e963": {
          "model_module": "@jupyter-widgets/controls",
          "model_name": "HTMLModel",
          "state": {
            "_view_name": "HTMLView",
            "style": "IPY_MODEL_8b16d3236ff34fc095bfaafe0f55b216",
            "_dom_classes": [],
            "description": "",
            "_model_name": "HTMLModel",
            "placeholder": "​",
            "_view_module": "@jupyter-widgets/controls",
            "_model_module_version": "1.5.0",
            "value": " 1649664/? [00:32&lt;00:00, 50408.47it/s]",
            "_view_count": null,
            "_view_module_version": "1.5.0",
            "description_tooltip": null,
            "_model_module": "@jupyter-widgets/controls",
            "layout": "IPY_MODEL_b5bed277d6c74a63b548ca354c0961ef"
          }
        },
        "85dcfd081e9c4af19650d06177d27095": {
          "model_module": "@jupyter-widgets/controls",
          "model_name": "ProgressStyleModel",
          "state": {
            "_view_name": "StyleView",
            "_model_name": "ProgressStyleModel",
            "description_width": "initial",
            "_view_module": "@jupyter-widgets/base",
            "_model_module_version": "1.5.0",
            "_view_count": null,
            "_view_module_version": "1.2.0",
            "bar_color": null,
            "_model_module": "@jupyter-widgets/controls"
          }
        },
        "9fb77d9721ed4bce958e4e3537fe7ba2": {
          "model_module": "@jupyter-widgets/base",
          "model_name": "LayoutModel",
          "state": {
            "_view_name": "LayoutView",
            "grid_template_rows": null,
            "right": null,
            "justify_content": null,
            "_view_module": "@jupyter-widgets/base",
            "overflow": null,
            "_model_module_version": "1.2.0",
            "_view_count": null,
            "flex_flow": null,
            "width": null,
            "min_width": null,
            "border": null,
            "align_items": null,
            "bottom": null,
            "_model_module": "@jupyter-widgets/base",
            "top": null,
            "grid_column": null,
            "overflow_y": null,
            "overflow_x": null,
            "grid_auto_flow": null,
            "grid_area": null,
            "grid_template_columns": null,
            "flex": null,
            "_model_name": "LayoutModel",
            "justify_items": null,
            "grid_row": null,
            "max_height": null,
            "align_content": null,
            "visibility": null,
            "align_self": null,
            "height": null,
            "min_height": null,
            "padding": null,
            "grid_auto_rows": null,
            "grid_gap": null,
            "max_width": null,
            "order": null,
            "_view_module_version": "1.2.0",
            "grid_template_areas": null,
            "object_position": null,
            "object_fit": null,
            "grid_auto_columns": null,
            "margin": null,
            "display": null,
            "left": null
          }
        },
        "8b16d3236ff34fc095bfaafe0f55b216": {
          "model_module": "@jupyter-widgets/controls",
          "model_name": "DescriptionStyleModel",
          "state": {
            "_view_name": "StyleView",
            "_model_name": "DescriptionStyleModel",
            "description_width": "",
            "_view_module": "@jupyter-widgets/base",
            "_model_module_version": "1.5.0",
            "_view_count": null,
            "_view_module_version": "1.2.0",
            "_model_module": "@jupyter-widgets/controls"
          }
        },
        "b5bed277d6c74a63b548ca354c0961ef": {
          "model_module": "@jupyter-widgets/base",
          "model_name": "LayoutModel",
          "state": {
            "_view_name": "LayoutView",
            "grid_template_rows": null,
            "right": null,
            "justify_content": null,
            "_view_module": "@jupyter-widgets/base",
            "overflow": null,
            "_model_module_version": "1.2.0",
            "_view_count": null,
            "flex_flow": null,
            "width": null,
            "min_width": null,
            "border": null,
            "align_items": null,
            "bottom": null,
            "_model_module": "@jupyter-widgets/base",
            "top": null,
            "grid_column": null,
            "overflow_y": null,
            "overflow_x": null,
            "grid_auto_flow": null,
            "grid_area": null,
            "grid_template_columns": null,
            "flex": null,
            "_model_name": "LayoutModel",
            "justify_items": null,
            "grid_row": null,
            "max_height": null,
            "align_content": null,
            "visibility": null,
            "align_self": null,
            "height": null,
            "min_height": null,
            "padding": null,
            "grid_auto_rows": null,
            "grid_gap": null,
            "max_width": null,
            "order": null,
            "_view_module_version": "1.2.0",
            "grid_template_areas": null,
            "object_position": null,
            "object_fit": null,
            "grid_auto_columns": null,
            "margin": null,
            "display": null,
            "left": null
          }
        },
        "678b2c3cbef64ee5b2e794442e22fce1": {
          "model_module": "@jupyter-widgets/controls",
          "model_name": "HBoxModel",
          "state": {
            "_view_name": "HBoxView",
            "_dom_classes": [],
            "_model_name": "HBoxModel",
            "_view_module": "@jupyter-widgets/controls",
            "_model_module_version": "1.5.0",
            "_view_count": null,
            "_view_module_version": "1.5.0",
            "box_style": "",
            "layout": "IPY_MODEL_ee50b3c1dd824e8aa657d38af85eb85d",
            "_model_module": "@jupyter-widgets/controls",
            "children": [
              "IPY_MODEL_49327cd5bd6c46249d6fb2d889f4b156",
              "IPY_MODEL_8c68d7051fe744bcbd94b9821d63b6ae"
            ]
          }
        },
        "ee50b3c1dd824e8aa657d38af85eb85d": {
          "model_module": "@jupyter-widgets/base",
          "model_name": "LayoutModel",
          "state": {
            "_view_name": "LayoutView",
            "grid_template_rows": null,
            "right": null,
            "justify_content": null,
            "_view_module": "@jupyter-widgets/base",
            "overflow": null,
            "_model_module_version": "1.2.0",
            "_view_count": null,
            "flex_flow": null,
            "width": null,
            "min_width": null,
            "border": null,
            "align_items": null,
            "bottom": null,
            "_model_module": "@jupyter-widgets/base",
            "top": null,
            "grid_column": null,
            "overflow_y": null,
            "overflow_x": null,
            "grid_auto_flow": null,
            "grid_area": null,
            "grid_template_columns": null,
            "flex": null,
            "_model_name": "LayoutModel",
            "justify_items": null,
            "grid_row": null,
            "max_height": null,
            "align_content": null,
            "visibility": null,
            "align_self": null,
            "height": null,
            "min_height": null,
            "padding": null,
            "grid_auto_rows": null,
            "grid_gap": null,
            "max_width": null,
            "order": null,
            "_view_module_version": "1.2.0",
            "grid_template_areas": null,
            "object_position": null,
            "object_fit": null,
            "grid_auto_columns": null,
            "margin": null,
            "display": null,
            "left": null
          }
        },
        "49327cd5bd6c46249d6fb2d889f4b156": {
          "model_module": "@jupyter-widgets/controls",
          "model_name": "FloatProgressModel",
          "state": {
            "_view_name": "ProgressView",
            "style": "IPY_MODEL_1c4c90100f774c099ab82150c8d4b209",
            "_dom_classes": [],
            "description": "",
            "_model_name": "FloatProgressModel",
            "bar_style": "success",
            "max": 4542,
            "_view_module": "@jupyter-widgets/controls",
            "_model_module_version": "1.5.0",
            "value": 4542,
            "_view_count": null,
            "_view_module_version": "1.5.0",
            "orientation": "horizontal",
            "min": 0,
            "description_tooltip": null,
            "_model_module": "@jupyter-widgets/controls",
            "layout": "IPY_MODEL_2080012cc3854858855df23c6f9bdc2f"
          }
        },
        "8c68d7051fe744bcbd94b9821d63b6ae": {
          "model_module": "@jupyter-widgets/controls",
          "model_name": "HTMLModel",
          "state": {
            "_view_name": "HTMLView",
            "style": "IPY_MODEL_fd3dc76f34824cc5b873727ab4e7a9df",
            "_dom_classes": [],
            "description": "",
            "_model_name": "HTMLModel",
            "placeholder": "​",
            "_view_module": "@jupyter-widgets/controls",
            "_model_module_version": "1.5.0",
            "value": " 5120/? [00:00&lt;00:00, 37482.54it/s]",
            "_view_count": null,
            "_view_module_version": "1.5.0",
            "description_tooltip": null,
            "_model_module": "@jupyter-widgets/controls",
            "layout": "IPY_MODEL_32a661c25ac54131a0390ac087c979be"
          }
        },
        "1c4c90100f774c099ab82150c8d4b209": {
          "model_module": "@jupyter-widgets/controls",
          "model_name": "ProgressStyleModel",
          "state": {
            "_view_name": "StyleView",
            "_model_name": "ProgressStyleModel",
            "description_width": "initial",
            "_view_module": "@jupyter-widgets/base",
            "_model_module_version": "1.5.0",
            "_view_count": null,
            "_view_module_version": "1.2.0",
            "bar_color": null,
            "_model_module": "@jupyter-widgets/controls"
          }
        },
        "2080012cc3854858855df23c6f9bdc2f": {
          "model_module": "@jupyter-widgets/base",
          "model_name": "LayoutModel",
          "state": {
            "_view_name": "LayoutView",
            "grid_template_rows": null,
            "right": null,
            "justify_content": null,
            "_view_module": "@jupyter-widgets/base",
            "overflow": null,
            "_model_module_version": "1.2.0",
            "_view_count": null,
            "flex_flow": null,
            "width": null,
            "min_width": null,
            "border": null,
            "align_items": null,
            "bottom": null,
            "_model_module": "@jupyter-widgets/base",
            "top": null,
            "grid_column": null,
            "overflow_y": null,
            "overflow_x": null,
            "grid_auto_flow": null,
            "grid_area": null,
            "grid_template_columns": null,
            "flex": null,
            "_model_name": "LayoutModel",
            "justify_items": null,
            "grid_row": null,
            "max_height": null,
            "align_content": null,
            "visibility": null,
            "align_self": null,
            "height": null,
            "min_height": null,
            "padding": null,
            "grid_auto_rows": null,
            "grid_gap": null,
            "max_width": null,
            "order": null,
            "_view_module_version": "1.2.0",
            "grid_template_areas": null,
            "object_position": null,
            "object_fit": null,
            "grid_auto_columns": null,
            "margin": null,
            "display": null,
            "left": null
          }
        },
        "fd3dc76f34824cc5b873727ab4e7a9df": {
          "model_module": "@jupyter-widgets/controls",
          "model_name": "DescriptionStyleModel",
          "state": {
            "_view_name": "StyleView",
            "_model_name": "DescriptionStyleModel",
            "description_width": "",
            "_view_module": "@jupyter-widgets/base",
            "_model_module_version": "1.5.0",
            "_view_count": null,
            "_view_module_version": "1.2.0",
            "_model_module": "@jupyter-widgets/controls"
          }
        },
        "32a661c25ac54131a0390ac087c979be": {
          "model_module": "@jupyter-widgets/base",
          "model_name": "LayoutModel",
          "state": {
            "_view_name": "LayoutView",
            "grid_template_rows": null,
            "right": null,
            "justify_content": null,
            "_view_module": "@jupyter-widgets/base",
            "overflow": null,
            "_model_module_version": "1.2.0",
            "_view_count": null,
            "flex_flow": null,
            "width": null,
            "min_width": null,
            "border": null,
            "align_items": null,
            "bottom": null,
            "_model_module": "@jupyter-widgets/base",
            "top": null,
            "grid_column": null,
            "overflow_y": null,
            "overflow_x": null,
            "grid_auto_flow": null,
            "grid_area": null,
            "grid_template_columns": null,
            "flex": null,
            "_model_name": "LayoutModel",
            "justify_items": null,
            "grid_row": null,
            "max_height": null,
            "align_content": null,
            "visibility": null,
            "align_self": null,
            "height": null,
            "min_height": null,
            "padding": null,
            "grid_auto_rows": null,
            "grid_gap": null,
            "max_width": null,
            "order": null,
            "_view_module_version": "1.2.0",
            "grid_template_areas": null,
            "object_position": null,
            "object_fit": null,
            "grid_auto_columns": null,
            "margin": null,
            "display": null,
            "left": null
          }
        }
      }
    }
  },
  "cells": [
    {
      "cell_type": "markdown",
      "metadata": {
        "id": "uACrE2aH25ja"
      },
      "source": [
        "# **GAN tutorial**\n",
        "\n",
        "https://github.com/dreamgonfly/GAN-tutorial/blob/master/GAN.ipynb"
      ]
    },
    {
      "cell_type": "code",
      "metadata": {
        "id": "JXq8phwQ0KIa"
      },
      "source": [
        "import torch\n",
        "import torch.nn as nn\n",
        "from torch.optim import Adam\n",
        "from torchvision import datasets, transforms\n",
        "from torch.utils.data import DataLoader\n",
        "from torch.autograd import Variable\n",
        "import pickle"
      ],
      "execution_count": 1,
      "outputs": []
    },
    {
      "cell_type": "code",
      "metadata": {
        "id": "GCyjhUMA3DEe"
      },
      "source": [
        "#데이터 전처리 방식 지정\n",
        "transform = transforms.Compose([\n",
        "                                transforms.ToTensor(),\n",
        "                                transforms.Normalize(mean=(0.5,), std=(0.5,))\n",
        "])"
      ],
      "execution_count": 2,
      "outputs": []
    },
    {
      "cell_type": "code",
      "metadata": {
        "colab": {
          "base_uri": "https://localhost:8080/",
          "height": 555,
          "referenced_widgets": [
            "49a4c9323da34bd4b2a36921b80da18b",
            "16fbbe17b9344e3189cea9d4a28e0426",
            "643d32e4e125445d876a3a5804a6c803",
            "f3d3fc5af65b43f0ae1fdacc39432c7e",
            "23568bdfaaa842beb07e01cd0cc3c872",
            "b5e59ab5c12a4f7e9c77e6c1c04558b1",
            "20751e274d554442a6211d60c6ad8482",
            "a76fd067b3954949b813fc6e2eb067ad",
            "65063d8541b746079c6306326bafc685",
            "ccb56b4b4f1d41618ee086ac78b63430",
            "e469289f3a8b46adb2048e54df837afc",
            "7e9afccdd6a441938ac647141d91236c",
            "3594011d93e44713b1bea7cf38cb7205",
            "93d84ca755984ee59564f2cce11cac50",
            "cd107ee3ee244a7191b889af1d039374",
            "b8ba063c551c441496958d091abe8f69",
            "6427d400068845e79c1a4d939c2c162c",
            "6fa6c9efdb8b458d9a1a15c94f814b09",
            "3bb7c258d01a4ca88bb124d200e9c813",
            "caefec0918f549d793847e030320e963",
            "85dcfd081e9c4af19650d06177d27095",
            "9fb77d9721ed4bce958e4e3537fe7ba2",
            "8b16d3236ff34fc095bfaafe0f55b216",
            "b5bed277d6c74a63b548ca354c0961ef",
            "678b2c3cbef64ee5b2e794442e22fce1",
            "ee50b3c1dd824e8aa657d38af85eb85d",
            "49327cd5bd6c46249d6fb2d889f4b156",
            "8c68d7051fe744bcbd94b9821d63b6ae",
            "1c4c90100f774c099ab82150c8d4b209",
            "2080012cc3854858855df23c6f9bdc2f",
            "fd3dc76f34824cc5b873727ab4e7a9df",
            "32a661c25ac54131a0390ac087c979be"
          ]
        },
        "id": "z5lH9BBu4Spd",
        "outputId": "ebcf07fa-ba1a-4fe4-f002-b7c6f65dc40b"
      },
      "source": [
        "#MNIST 데이터셋 불러오기. 지정한 폴더에 없을 경우 자동으로 다운로드\n",
        "mnist = datasets.MNIST(root='data', download=True, transform=transform)\n",
        "\n",
        "#데이터를 한번에 batch_size만큼 가져오는 dataloader 생성\n",
        "dataloader = DataLoader(mnist, batch_size=60, shuffle=True)"
      ],
      "execution_count": 3,
      "outputs": [
        {
          "output_type": "stream",
          "text": [
            "Downloading http://yann.lecun.com/exdb/mnist/train-images-idx3-ubyte.gz\n",
            "Downloading http://yann.lecun.com/exdb/mnist/train-images-idx3-ubyte.gz to data/MNIST/raw/train-images-idx3-ubyte.gz\n"
          ],
          "name": "stdout"
        },
        {
          "output_type": "display_data",
          "data": {
            "application/vnd.jupyter.widget-view+json": {
              "model_id": "49a4c9323da34bd4b2a36921b80da18b",
              "version_minor": 0,
              "version_major": 2
            },
            "text/plain": [
              "HBox(children=(FloatProgress(value=0.0, max=9912422.0), HTML(value='')))"
            ]
          },
          "metadata": {
            "tags": []
          }
        },
        {
          "output_type": "stream",
          "text": [
            "\n",
            "Extracting data/MNIST/raw/train-images-idx3-ubyte.gz to data/MNIST/raw\n",
            "\n",
            "Downloading http://yann.lecun.com/exdb/mnist/train-labels-idx1-ubyte.gz\n",
            "Downloading http://yann.lecun.com/exdb/mnist/train-labels-idx1-ubyte.gz to data/MNIST/raw/train-labels-idx1-ubyte.gz\n"
          ],
          "name": "stdout"
        },
        {
          "output_type": "display_data",
          "data": {
            "application/vnd.jupyter.widget-view+json": {
              "model_id": "65063d8541b746079c6306326bafc685",
              "version_minor": 0,
              "version_major": 2
            },
            "text/plain": [
              "HBox(children=(FloatProgress(value=0.0, max=28881.0), HTML(value='')))"
            ]
          },
          "metadata": {
            "tags": []
          }
        },
        {
          "output_type": "stream",
          "text": [
            "\n",
            "Extracting data/MNIST/raw/train-labels-idx1-ubyte.gz to data/MNIST/raw\n",
            "\n",
            "Downloading http://yann.lecun.com/exdb/mnist/t10k-images-idx3-ubyte.gz\n",
            "Downloading http://yann.lecun.com/exdb/mnist/t10k-images-idx3-ubyte.gz to data/MNIST/raw/t10k-images-idx3-ubyte.gz\n"
          ],
          "name": "stdout"
        },
        {
          "output_type": "display_data",
          "data": {
            "application/vnd.jupyter.widget-view+json": {
              "model_id": "6427d400068845e79c1a4d939c2c162c",
              "version_minor": 0,
              "version_major": 2
            },
            "text/plain": [
              "HBox(children=(FloatProgress(value=0.0, max=1648877.0), HTML(value='')))"
            ]
          },
          "metadata": {
            "tags": []
          }
        },
        {
          "output_type": "stream",
          "text": [
            "\n",
            "Extracting data/MNIST/raw/t10k-images-idx3-ubyte.gz to data/MNIST/raw\n",
            "\n",
            "Downloading http://yann.lecun.com/exdb/mnist/t10k-labels-idx1-ubyte.gz\n",
            "Downloading http://yann.lecun.com/exdb/mnist/t10k-labels-idx1-ubyte.gz to data/MNIST/raw/t10k-labels-idx1-ubyte.gz\n"
          ],
          "name": "stdout"
        },
        {
          "output_type": "display_data",
          "data": {
            "application/vnd.jupyter.widget-view+json": {
              "model_id": "678b2c3cbef64ee5b2e794442e22fce1",
              "version_minor": 0,
              "version_major": 2
            },
            "text/plain": [
              "HBox(children=(FloatProgress(value=0.0, max=4542.0), HTML(value='')))"
            ]
          },
          "metadata": {
            "tags": []
          }
        },
        {
          "output_type": "stream",
          "text": [
            "\n",
            "Extracting data/MNIST/raw/t10k-labels-idx1-ubyte.gz to data/MNIST/raw\n",
            "\n"
          ],
          "name": "stdout"
        },
        {
          "output_type": "stream",
          "text": [
            "/usr/local/lib/python3.7/dist-packages/torchvision/datasets/mnist.py:498: UserWarning: The given NumPy array is not writeable, and PyTorch does not support non-writeable tensors. This means you can write to the underlying (supposedly non-writeable) NumPy array using the tensor. You may want to copy the array to protect its data or make it writeable before converting it to a tensor. This type of warning will be suppressed for the rest of this program. (Triggered internally at  /pytorch/torch/csrc/utils/tensor_numpy.cpp:180.)\n",
            "  return torch.from_numpy(parsed.astype(m[2], copy=False)).view(*s)\n"
          ],
          "name": "stderr"
        }
      ]
    },
    {
      "cell_type": "code",
      "metadata": {
        "id": "4t6MVWDoAIUL"
      },
      "source": [
        "import os\n",
        "import imageio\n",
        "\n",
        "if torch.cuda.is_available():\n",
        "  use_gpu = True\n",
        "\n",
        "leave_log = True\n",
        "if leave_log:\n",
        "  result_dir = 'GAN_generated_images'\n",
        "  if not os.path.isdir(result_dir):\n",
        "    os.mkdir(result_dir)"
      ],
      "execution_count": 4,
      "outputs": []
    },
    {
      "cell_type": "code",
      "metadata": {
        "id": "1T6DasDlAuo-"
      },
      "source": [
        "###GAN의 생성자 (Generator)\n",
        "# 생성자는 랜덤 벡터 z를 입력으로 받아 가짜 이미지를 출력한다.\n",
        "\n",
        "class Generator(nn.Module):\n",
        "\n",
        "  #네트워크 구조\n",
        "  def __init__(self):\n",
        "    super(Generator, self).__init__()\n",
        "    self.main = nn.Sequential(\n",
        "        nn.Linear(in_features=100, out_features=256),\n",
        "        nn.LeakyReLU(0.2, inplace=True),\n",
        "        nn.Linear(in_features=256, out_features=512),\n",
        "        nn.LeakyReLU(0.2, inplace=True),\n",
        "        nn.Linear(in_features=512, out_features=1024),\n",
        "        nn.LeakyReLU(0.2, inplace=True),\n",
        "        nn.Linear(in_features=1024, out_features=28*28),\n",
        "        nn.Tanh() )\n",
        "    \n",
        "    # (batch_size * 100) 크기의 랜덤 벡터를 받아\n",
        "    # 이미지를 (batch_size * 1 * 28 * 28) 크기로 출력한다\n",
        "\n",
        "    def forward(self, inputs):\n",
        "      return self.main(inputs).view(-1, 1, 28, 28)"
      ],
      "execution_count": 5,
      "outputs": []
    },
    {
      "cell_type": "code",
      "metadata": {
        "id": "4GjbkrFwD-6v"
      },
      "source": [
        "### GAN의 구분자 (Discriminator)\n",
        "# 구분자는 이미지를 입력으로 받아 이미지가 진짜인지 가짜인지 출력한다\n",
        "\n",
        "class Discriminator(nn.Module):\n",
        "\n",
        "  def __init__(self):\n",
        "    super(Discriminator, self).__init__()\n",
        "    self.main = nn.Sequential(\n",
        "        nn.Linear(in_features=28*28, out_features=1024),\n",
        "        nn.LeakyReLU(0.2, inplace=True),\n",
        "        nn.Dropout(inplace=True),\n",
        "        ### 왜 여기서 dropout 비율 안정해주는건지?\n",
        "        nn.Linear(in_features=1024, out_features=512),\n",
        "        nn.LeakyReLU(0.2, inplace=True),\n",
        "        nn.Dropout(inplace=True),\n",
        "        nn.Linear(in_features=512, out_features=256),\n",
        "        nn.LeakyReLU(0.2, inplace=True),\n",
        "        nn.Dropout(inplace=True),\n",
        "        nn.Linear(in_features=256, out_features=1),\n",
        "        nn.Sigmoid()    )\n",
        "    \n",
        "    # (batch_size * 1 * 28 * 28) 크기의 이미지를 받아\n",
        "    # 이미지가 진짜일 확률을 0~1 사이로 출력\n",
        "\n",
        "    def forward(self, inputs):\n",
        "      inputs = inputs.view(-1, 28*28)\n",
        "      return self.main(inputs)"
      ],
      "execution_count": 6,
      "outputs": []
    },
    {
      "cell_type": "code",
      "metadata": {
        "colab": {
          "base_uri": "https://localhost:8080/"
        },
        "id": "enPzF69CP_lH",
        "outputId": "56309d7a-0dc0-407c-dff3-b30232231d10"
      },
      "source": [
        "torch.cuda.is_available()"
      ],
      "execution_count": 7,
      "outputs": [
        {
          "output_type": "execute_result",
          "data": {
            "text/plain": [
              "True"
            ]
          },
          "metadata": {
            "tags": []
          },
          "execution_count": 7
        }
      ]
    },
    {
      "cell_type": "code",
      "metadata": {
        "id": "8KGv6c5cIobK"
      },
      "source": [
        "### 생성자와 구분자 객체 만들기\n",
        "G = Generator()\n",
        "D = Discriminator()\n",
        "\n",
        "if use_gpu:\n",
        "  G.cuda()\n",
        "  D.cuda()\n",
        "\n",
        "#cuda와 관련하여 gpu로 런타임 유형 변경하니 에러 안뜨고 잘 실행됨"
      ],
      "execution_count": 8,
      "outputs": []
    },
    {
      "cell_type": "code",
      "metadata": {
        "id": "-PZfFXEYQ4-z"
      },
      "source": [
        "### 손실함수와 최적화 기법 지정하기\n",
        "# Binary Cross Entropy loss\n",
        "criterion = nn.BCELoss()\n",
        "\n",
        "# 생성자의 매개변수를 최적화하는 Adam optimizer\n",
        "G_optimizer = Adam(G.parameters(), lr=0.0002, betas=(0.5, 0.999))\n",
        "# 구분자의 매개변수를 최적화하는 Adam optimizer\n",
        "D_optimizer = Adam(D.parameters(), lr=0.0002, betas=(0.5, 0.999))\n",
        "\n",
        "# optimizer에 대해 공부해보기"
      ],
      "execution_count": 9,
      "outputs": []
    },
    {
      "cell_type": "code",
      "metadata": {
        "id": "qw3m4d0GM11R"
      },
      "source": [
        "# 학습결과 시각화하기\n",
        "%matplotlib inline\n",
        "from matplotlib import pyplot as plt\n",
        "import numpy as np\n",
        "\n",
        "def square_plot(data, path):\n",
        "  if type(data) == list:\n",
        "    data = np.concatenate(data)\n",
        "  #normalize data for display\n",
        "  data = (data - data.min()) / (data.max()-data.min())\n",
        "  #force the number of filters to be square\n",
        "  n = int(np.ceil(np.sqrt(data.shape[0])))\n",
        "\n",
        "  padding = (((0, n**2 - data.shape[0]), (0,1), (0,1)) + ((0,0),)*(data.ndim-3))\n",
        "\n",
        "  data = np.pad(data, padding, mode='constant', constant_values=1)\n",
        "\n",
        "  data = data.reshape((n, n)+data.shape[1:]).transpose((0, 2, 1, 3)+tuple(range(4, data.ndim+1)))\n",
        "\n",
        "  data = data.reshape((n*data.shape[1], n*data.shape[3]) + data.shape[4:])\n",
        "\n",
        "  plt.imsave(path, data, cmap='gray')"
      ],
      "execution_count": 14,
      "outputs": []
    },
    {
      "cell_type": "code",
      "metadata": {
        "colab": {
          "base_uri": "https://localhost:8080/"
        },
        "id": "BaAaUSWaPmLE",
        "outputId": "cc749ec6-955d-4ef2-e882-9cc62522b783"
      },
      "source": [
        "if leave_log:\n",
        "  train_hist = {}\n",
        "  train_hist['D_losses'] = []\n",
        "  train_hist['G_losses'] = []\n",
        "  generated_images = []\n",
        "\n",
        "z_fixed = Variable(torch.randn(5*5, 100), volatile=True)\n",
        "if use_gpu:\n",
        "  z_fixed = z_fixed.cuda()\n",
        "\n",
        "# volatile 변수가 무엇을 의미하는지 생각"
      ],
      "execution_count": 15,
      "outputs": [
        {
          "output_type": "stream",
          "text": [
            "/usr/local/lib/python3.7/dist-packages/ipykernel_launcher.py:7: UserWarning: volatile was removed and now has no effect. Use `with torch.no_grad():` instead.\n",
            "  import sys\n"
          ],
          "name": "stderr"
        }
      ]
    },
    {
      "cell_type": "code",
      "metadata": {
        "colab": {
          "base_uri": "https://localhost:8080/",
          "height": 390
        },
        "id": "MdRx1mMnRNos",
        "outputId": "555065e6-04f7-4324-c0df-e8351adb2b7c"
      },
      "source": [
        "### 모델 학습을 위한 반복문\n",
        "# 데이터셋을 100번 돌며 학습\n",
        "\n",
        "for epoch in range(100):\n",
        "  if leave_log:\n",
        "    D_losses = []\n",
        "    G_losses = []\n",
        "\n",
        "    #한번에 batch_size만큼 데이터를 가져온다.\n",
        "    for real_data, _ in dataloader:\n",
        "      batch_size = real_data.size(0)\n",
        "\n",
        "      #데이터를 pytorch의 변수로 변환한다.\n",
        "      real_data = Variable(real_data)\n",
        "\n",
        "      ###구분자 학습시키기\n",
        "\n",
        "      #이미지가 진짜일때 정답 값은 1이고, 가짜일때는 0이다.\n",
        "      #정답지에 해당하는 변수를 만든다.\n",
        "      target_real = Variable(torch.ones(batch_size, 1))\n",
        "      target_fake = Variable(torch.zeros(batch_size, 1))\n",
        "\n",
        "      if use_gpu:\n",
        "        real_data, target_real, target_fake = real_data.cuda(), target_real.cuda(), target_fake.cuda()\n",
        "\n",
        "      #진짜 이미지를 구분자에 넣는다\n",
        "      D_result_from_real = D(real_data)\n",
        "      #구분자의 출력값이 정답값인 1에서 멀수록 loss가 높아진다\n",
        "      D_loss_real = criterion(D_result_from_real, target_real)\n",
        "\n",
        "      #생성자에 입력으로 줄 랜덤 벡터 z를 만든다\n",
        "      z = Variable(torch.randn(batch_size, 100))\n",
        "\n",
        "      if use_gpu:\n",
        "        z = z.cuda()\n",
        "\n",
        "      #생성자로 가짜 이미지를 만든다.\n",
        "      fake_data = G(z)\n",
        "\n",
        "      #생성자가 만든 가짜 이미지를 구분자에 넣는다.\n",
        "      D_result_from_fake = D(fake_data)\n",
        "      #구분자의 출력값이 정답지인 0에서 멀수록 loss가 높아진다\n",
        "      D_loss_fake = criterion(D_result_from_fake, target_fake)\n",
        "\n",
        "      # 구분자의 loss는 두 문제에서 계산된 loss의 합이다\n",
        "      D_loss = D_loss_real + D_loss_fake\n",
        "\n",
        "      #구분자의 매개 변수의 미분값을 0으로 초기화한다\n",
        "      D.zero_grad()\n",
        "      #역전파를 통해 매개 변수의 loss에 대한 미분값을 계산한다\n",
        "      D_loss.backward()\n",
        "      #최적화 기법을 이용해 구분자의 매개 변수를 업데이트한다\n",
        "      D_optimizer.step()\n",
        "\n",
        "      if leave_log:\n",
        "        D_losses.append(D_loss.data[0])\n",
        "      \n",
        "      #train generator G\n",
        "      ### 생성자 학습시키기\n",
        "\n",
        "      #생성자에 입력으로 줄 랜덤 벡터 z를 만들기\n",
        "      z = Variable(torch.randn((batch_size, 100)))\n",
        "\n",
        "      if use_gpu:\n",
        "        z = z.cuda()\n",
        "      \n",
        "      #생성자로 가짜 이미지를 생성한다\n",
        "      fake_data = G(z)\n",
        "      #생성자가 만든 가짜 이미지를 구분자에 넣는다\n",
        "      D_result_from_fake = D(fake_data)\n",
        "      #생성자의 입장에서 구분자의 출력값이 1에서 멀수록 loss가 높아진다\n",
        "      G_loss = criterion(D_result_from_fake, target_real)\n",
        "\n",
        "      #생성자의 매개 변수의 미분값을 0으로 초기화\n",
        "      G.zero_grad()\n",
        "      #역전파를 통해 매개 변수의 loss에 대한 미분값을 계산한다\n",
        "      G_loss.backward()\n",
        "      #최적화 기법을 이용해 생성자의 매개변수를 업데이트\n",
        "      G_optimizer.step()\n",
        "\n",
        "      if leave_log:\n",
        "        G_losses.append(G_loss.data[0])\n",
        "      \n",
        "    if leave_log:\n",
        "      true_positive_rate = (D_result_from_real > 0.5).float().mean().data[0]\n",
        "      true_negative_rate = (D_result_from_fake < 0.5).float().mean().data[0]\n",
        "      base_message = (\"Epoch: {epoch:<3d} D Loss: {d_loss:<8.6} G Loss: {g_loss:<8.6}\"\n",
        "                      \"True Positive Rate: {tpr:<5.1%} True Negative Rate: {tnr:<5.1%}\")\n",
        "      message = base_message.format(\n",
        "          epoch = epoch,\n",
        "          d_loss = sum(D_losses)/len(D_losses),\n",
        "          g_loss = sum(G_losses)/len(G_losses),\n",
        "          tpr = true_positive_rate,\n",
        "          tnr = true_negative_rate\n",
        "      )\n",
        "      print(message)\n",
        "    \n",
        "    if leave_log:\n",
        "      fake_data_fixed = G(z_fixed)\n",
        "      image_path = result_dir + '/epoch{}.png'.format(epoch)\n",
        "      square_plot(fake_data_fixed.view(25, 28, 28).cpu().data.numpy(), path=image_path)\n",
        "      generated_images.append(image_path)\n",
        "\n",
        "    if leave_log:\n",
        "      train_hist['D_losses'].append(torch.mean(torch.FloatTensor(D_losses)))\n",
        "      train_hist['G_losses'].append(torch.mean(torch.FloatTensor(G_losses)))\n",
        "\n",
        "torch.save(G.state_dict(), \"gan_generator.pkl\")\n",
        "torch.save(D.state_dict(), \"gan_discriminator.pkl\")\n",
        "with open('gan_train_history.pkl', 'wp') as f:\n",
        "  pickle.dump(train_hist, f)\n",
        "\n",
        "generated_image_array = [imageio.imread(generated_image) for generated_image in generated_images]\n",
        "imageio.mimsave(result_dir + 'GAN_generation.gif', generated_image_array, fps=5)\n"
      ],
      "execution_count": 18,
      "outputs": [
        {
          "output_type": "error",
          "ename": "NotImplementedError",
          "evalue": "ignored",
          "traceback": [
            "\u001b[0;31m---------------------------------------------------------------------------\u001b[0m",
            "\u001b[0;31mNotImplementedError\u001b[0m                       Traceback (most recent call last)",
            "\u001b[0;32m<ipython-input-18-2e5debf04e8d>\u001b[0m in \u001b[0;36m<module>\u001b[0;34m()\u001b[0m\n\u001b[1;32m     25\u001b[0m \u001b[0;34m\u001b[0m\u001b[0m\n\u001b[1;32m     26\u001b[0m       \u001b[0;31m#진짜 이미지를 구분자에 넣는다\u001b[0m\u001b[0;34m\u001b[0m\u001b[0;34m\u001b[0m\u001b[0;34m\u001b[0m\u001b[0m\n\u001b[0;32m---> 27\u001b[0;31m       \u001b[0mD_result_from_real\u001b[0m \u001b[0;34m=\u001b[0m \u001b[0mD\u001b[0m\u001b[0;34m(\u001b[0m\u001b[0mreal_data\u001b[0m\u001b[0;34m)\u001b[0m\u001b[0;34m\u001b[0m\u001b[0;34m\u001b[0m\u001b[0m\n\u001b[0m\u001b[1;32m     28\u001b[0m       \u001b[0;31m#구분자의 출력값이 정답값인 1에서 멀수록 loss가 높아진다\u001b[0m\u001b[0;34m\u001b[0m\u001b[0;34m\u001b[0m\u001b[0;34m\u001b[0m\u001b[0m\n\u001b[1;32m     29\u001b[0m       \u001b[0mD_loss_real\u001b[0m \u001b[0;34m=\u001b[0m \u001b[0mcriterion\u001b[0m\u001b[0;34m(\u001b[0m\u001b[0mD_result_from_real\u001b[0m\u001b[0;34m,\u001b[0m \u001b[0mtarget_real\u001b[0m\u001b[0;34m)\u001b[0m\u001b[0;34m\u001b[0m\u001b[0;34m\u001b[0m\u001b[0m\n",
            "\u001b[0;32m/usr/local/lib/python3.7/dist-packages/torch/nn/modules/module.py\u001b[0m in \u001b[0;36m_call_impl\u001b[0;34m(self, *input, **kwargs)\u001b[0m\n\u001b[1;32m   1049\u001b[0m         if not (self._backward_hooks or self._forward_hooks or self._forward_pre_hooks or _global_backward_hooks\n\u001b[1;32m   1050\u001b[0m                 or _global_forward_hooks or _global_forward_pre_hooks):\n\u001b[0;32m-> 1051\u001b[0;31m             \u001b[0;32mreturn\u001b[0m \u001b[0mforward_call\u001b[0m\u001b[0;34m(\u001b[0m\u001b[0;34m*\u001b[0m\u001b[0minput\u001b[0m\u001b[0;34m,\u001b[0m \u001b[0;34m**\u001b[0m\u001b[0mkwargs\u001b[0m\u001b[0;34m)\u001b[0m\u001b[0;34m\u001b[0m\u001b[0;34m\u001b[0m\u001b[0m\n\u001b[0m\u001b[1;32m   1052\u001b[0m         \u001b[0;31m# Do not call functions when jit is used\u001b[0m\u001b[0;34m\u001b[0m\u001b[0;34m\u001b[0m\u001b[0;34m\u001b[0m\u001b[0m\n\u001b[1;32m   1053\u001b[0m         \u001b[0mfull_backward_hooks\u001b[0m\u001b[0;34m,\u001b[0m \u001b[0mnon_full_backward_hooks\u001b[0m \u001b[0;34m=\u001b[0m \u001b[0;34m[\u001b[0m\u001b[0;34m]\u001b[0m\u001b[0;34m,\u001b[0m \u001b[0;34m[\u001b[0m\u001b[0;34m]\u001b[0m\u001b[0;34m\u001b[0m\u001b[0;34m\u001b[0m\u001b[0m\n",
            "\u001b[0;32m/usr/local/lib/python3.7/dist-packages/torch/nn/modules/module.py\u001b[0m in \u001b[0;36m_forward_unimplemented\u001b[0;34m(self, *input)\u001b[0m\n\u001b[1;32m    199\u001b[0m         \u001b[0mregistered\u001b[0m \u001b[0mhooks\u001b[0m \u001b[0;32mwhile\u001b[0m \u001b[0mthe\u001b[0m \u001b[0mlatter\u001b[0m \u001b[0msilently\u001b[0m \u001b[0mignores\u001b[0m \u001b[0mthem\u001b[0m\u001b[0;34m.\u001b[0m\u001b[0;34m\u001b[0m\u001b[0;34m\u001b[0m\u001b[0m\n\u001b[1;32m    200\u001b[0m     \"\"\"\n\u001b[0;32m--> 201\u001b[0;31m     \u001b[0;32mraise\u001b[0m \u001b[0mNotImplementedError\u001b[0m\u001b[0;34m\u001b[0m\u001b[0;34m\u001b[0m\u001b[0m\n\u001b[0m\u001b[1;32m    202\u001b[0m \u001b[0;34m\u001b[0m\u001b[0m\n\u001b[1;32m    203\u001b[0m \u001b[0;34m\u001b[0m\u001b[0m\n",
            "\u001b[0;31mNotImplementedError\u001b[0m: "
          ]
        }
      ]
    },
    {
      "cell_type": "code",
      "metadata": {
        "id": "CgUQt1r1fn6u"
      },
      "source": [
        ""
      ],
      "execution_count": null,
      "outputs": []
    }
  ]
}