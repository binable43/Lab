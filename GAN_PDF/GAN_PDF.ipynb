{
 "cells": [
  {
   "cell_type": "markdown",
   "id": "4ac70fcc",
   "metadata": {},
   "source": [
    "필요한 라이브러리 불러오기"
   ]
  },
  {
   "cell_type": "code",
   "execution_count": 1,
   "id": "d13fdc6c",
   "metadata": {},
   "outputs": [],
   "source": [
    "import torch\n",
    "import torch.nn as nn #G, D architecture 정의\n",
    "\n",
    "import os # python 빌트인 os 라이브러리 import 및 파일 위치 확인\n",
    "import pandas as pd # data processing, CSV file I/O (e.g. pd.read_csv)\n",
    "from sklearn.model_selection import train_test_split\n",
    "\n",
    "%matplotlib inline\n",
    "import numpy as np  #행렬처리 파이썬 라이브러리\n",
    "import tensorflow as tf\n",
    "\n",
    "import matplotlib.pyplot as plt #matlab\n",
    "from warnings import filterwarnings\n",
    "filterwarnings('ignore')"
   ]
  },
  {
   "cell_type": "markdown",
   "id": "ebdd1789",
   "metadata": {},
   "source": [
    "학습 데이터셋 불러오기\n",
    "\n",
    "* pdf"
   ]
  },
  {
   "cell_type": "code",
   "execution_count": 2,
   "id": "481c9b4f",
   "metadata": {},
   "outputs": [
    {
     "name": "stdout",
     "output_type": "stream",
     "text": [
      "     AcroForm  AcroForm.1  DA  DR  Encoding  PDFDocEncoding  PDFDocEncoding.1  \\\n",
      "0           0           0   0   0         0               0                 0   \n",
      "1           0           0   1   1         0               0                 0   \n",
      "2           0           0   0   0         0               0                 0   \n",
      "3           0           0   0   0         1               0                 0   \n",
      "4           0           0   0   0         0               1                 1   \n",
      "5           0           0   0   0         0               0                 0   \n",
      "6           0           0   0   0         0               0                 0   \n",
      "7           0           0   0   0         0               0                 0   \n",
      "8           0           0   0   0         0               0                 0   \n",
      "9           0           0   0   0         0               0                 0   \n",
      "10          0           0   0   0         0               0                 0   \n",
      "11          0           0   0   0         0               0                 0   \n",
      "12          0           0   0   0         0               0                 0   \n",
      "13          0           0   0   0         0               0                 0   \n",
      "14          0           0   0   0         0               0                 0   \n",
      "15          0           0   0   0         0               0                 0   \n",
      "16          0           0   0   0         0               0                 0   \n",
      "17          0           0   0   0         0               0                 0   \n",
      "18          0           0   0   0         0               0                 0   \n",
      "19          0           0   0   0         0               0                 0   \n",
      "20          0           0   0   0         0               0                 0   \n",
      "21          0           0   0   0         0               0                 0   \n",
      "22          0           0   0   0         0               0                 0   \n",
      "23          0           0   0   0         0               0                 0   \n",
      "24          0           0   0   0         0               0                 0   \n",
      "25          0           0   0   0         0               0                 0   \n",
      "26          0           0   0   0         0               0                 0   \n",
      "27          0           0   0   0         0               0                 0   \n",
      "28          0           0   0   0         0               0                 0   \n",
      "29          0           0   0   0         0               0                 0   \n",
      "..        ...         ...  ..  ..       ...             ...               ...   \n",
      "150         0           0   0   0         0               0                 0   \n",
      "151         0           0   0   0         0               0                 0   \n",
      "152         0           0   0   0         0               0                 0   \n",
      "153         0           0   0   0         0               0                 0   \n",
      "154         0           0   0   0         0               0                 0   \n",
      "155         0           0   0   0         0               0                 0   \n",
      "156         0           0   0   0         0               0                 0   \n",
      "157         0           0   0   0         0               0                 0   \n",
      "158         0           0   0   0         0               0                 0   \n",
      "159         0           0   0   0         0               0                 0   \n",
      "160         0           0   0   0         0               0                 0   \n",
      "161         0           0   0   0         0               0                 0   \n",
      "162         0           0   0   0         0               0                 0   \n",
      "163         0           0   0   0         0               0                 0   \n",
      "164         0           0   0   0         0               0                 0   \n",
      "165         0           0   0   0         0               0                 0   \n",
      "166         0           0   0   0         0               0                 0   \n",
      "167         0           0   0   0         0               0                 0   \n",
      "168         0           0   0   0         0               0                 0   \n",
      "169         0           0   0   0         0               0                 0   \n",
      "170         0           0   0   0         0               0                 0   \n",
      "171         0           0   0   0         0               0                 0   \n",
      "172         0           0   0   0         0               0                 0   \n",
      "173         0           0   0   0         0               0                 0   \n",
      "174         0           0   0   0         0               0                 0   \n",
      "175         0           0   0   0         0               0                 0   \n",
      "176         0           0   0   0         0               0                 0   \n",
      "177         0           0   0   0         0               0                 0   \n",
      "178         0           0   0   0         0               0                 0   \n",
      "179         0           0   0   0         0               0                 0   \n",
      "\n",
      "     Differences  Type  Font  ...  Filter.10  Height.8  ImageMask  Length.12  \\\n",
      "0              0     0     0  ...          0         0          0          0   \n",
      "1              0     0     0  ...          0         0          0          0   \n",
      "2              0     0     0  ...          0         0          0          0   \n",
      "3              0     0     1  ...          0         0          0          0   \n",
      "4              0     0     0  ...          0         0          0          0   \n",
      "5              0     0     0  ...          0         0          0          0   \n",
      "6              1     1     0  ...          0         0          0          0   \n",
      "7              0     0     0  ...          0         0          0          0   \n",
      "8              0     0     0  ...          0         0          0          0   \n",
      "9              0     0     0  ...          0         0          0          0   \n",
      "10             0     0     0  ...          0         0          0          0   \n",
      "11             0     0     0  ...          0         0          0          0   \n",
      "12             0     0     0  ...          0         0          0          0   \n",
      "13             0     0     0  ...          0         0          0          0   \n",
      "14             0     0     0  ...          0         0          0          0   \n",
      "15             0     0     0  ...          0         0          0          0   \n",
      "16             0     0     0  ...          0         0          0          0   \n",
      "17             0     0     0  ...          0         0          0          0   \n",
      "18             0     0     0  ...          0         0          0          0   \n",
      "19             0     0     0  ...          0         0          0          0   \n",
      "20             0     0     0  ...          0         0          0          0   \n",
      "21             0     0     0  ...          0         0          0          0   \n",
      "22             0     0     0  ...          0         0          0          0   \n",
      "23             0     0     0  ...          0         0          0          0   \n",
      "24             0     0     0  ...          0         0          0          0   \n",
      "25             0     0     0  ...          0         0          0          0   \n",
      "26             0     0     0  ...          0         0          0          0   \n",
      "27             0     0     0  ...          0         0          0          0   \n",
      "28             0     0     0  ...          0         0          0          0   \n",
      "29             0     0     0  ...          0         0          0          0   \n",
      "..           ...   ...   ...  ...        ...       ...        ...        ...   \n",
      "150            0     0     0  ...          0         0          0          0   \n",
      "151            0     0     0  ...          0         0          0          0   \n",
      "152            0     0     0  ...          0         0          0          0   \n",
      "153            0     0     0  ...          0         0          0          0   \n",
      "154            0     0     0  ...          0         0          0          0   \n",
      "155            0     0     0  ...          0         0          0          0   \n",
      "156            0     0     0  ...          0         0          0          0   \n",
      "157            0     0     0  ...          0         0          0          0   \n",
      "158            0     0     0  ...          0         0          0          0   \n",
      "159            0     0     0  ...          0         0          0          0   \n",
      "160            0     0     0  ...          0         0          0          0   \n",
      "161            0     0     0  ...          0         0          0          0   \n",
      "162            0     0     0  ...          0         0          0          0   \n",
      "163            0     0     0  ...          0         0          0          0   \n",
      "164            0     0     0  ...          0         0          0          0   \n",
      "165            0     0     0  ...          0         0          0          0   \n",
      "166            0     0     0  ...          0         0          0          0   \n",
      "167            0     0     0  ...          0         0          0          0   \n",
      "168            0     0     0  ...          1         1          1          1   \n",
      "169            0     0     0  ...          0         0          0          0   \n",
      "170            0     0     0  ...          0         0          0          0   \n",
      "171            0     0     0  ...          0         0          0          0   \n",
      "172            0     0     0  ...          0         0          0          0   \n",
      "173            0     0     0  ...          0         0          0          0   \n",
      "174            0     0     0  ...          0         0          0          0   \n",
      "175            0     0     0  ...          0         0          0          0   \n",
      "176            0     0     0  ...          0         0          0          0   \n",
      "177            0     0     0  ...          0         0          0          0   \n",
      "178            0     0     0  ...          0         0          0          0   \n",
      "179            0     0     0  ...          0         0          0          0   \n",
      "\n",
      "     Subtype.12  Width.8  Rotate  Type.5  Type.6  Type.7  \n",
      "0             0        0       0       0       0       0  \n",
      "1             0        0       0       0       0       0  \n",
      "2             0        0       0       0       0       0  \n",
      "3             0        0       0       0       0       0  \n",
      "4             0        0       0       0       0       0  \n",
      "5             0        0       0       0       0       0  \n",
      "6             0        0       0       0       0       0  \n",
      "7             0        0       0       0       0       0  \n",
      "8             0        0       0       0       0       0  \n",
      "9             0        0       0       0       0       0  \n",
      "10            0        0       0       0       0       0  \n",
      "11            0        0       0       0       0       0  \n",
      "12            0        0       0       0       0       0  \n",
      "13            0        0       0       0       0       0  \n",
      "14            0        0       0       0       0       0  \n",
      "15            0        0       0       0       0       0  \n",
      "16            0        0       0       0       0       0  \n",
      "17            0        0       0       0       0       0  \n",
      "18            0        0       0       0       0       0  \n",
      "19            0        0       0       0       0       0  \n",
      "20            0        0       0       0       0       0  \n",
      "21            0        0       0       0       0       0  \n",
      "22            0        0       0       0       0       0  \n",
      "23            0        0       0       0       0       0  \n",
      "24            0        0       0       0       0       0  \n",
      "25            0        0       0       0       0       0  \n",
      "26            0        0       0       0       0       0  \n",
      "27            0        0       0       0       0       0  \n",
      "28            0        0       0       0       0       0  \n",
      "29            0        0       0       0       0       0  \n",
      "..          ...      ...     ...     ...     ...     ...  \n",
      "150           0        0       0       0       0       0  \n",
      "151           0        0       0       0       0       0  \n",
      "152           0        0       0       0       0       0  \n",
      "153           0        0       0       0       0       0  \n",
      "154           0        0       0       0       0       0  \n",
      "155           0        0       0       0       0       0  \n",
      "156           0        0       0       0       0       0  \n",
      "157           0        0       0       0       0       0  \n",
      "158           0        0       0       0       0       0  \n",
      "159           0        0       0       0       0       0  \n",
      "160           0        0       0       0       0       0  \n",
      "161           0        0       0       0       0       0  \n",
      "162           0        0       0       0       0       0  \n",
      "163           0        0       0       0       0       0  \n",
      "164           0        0       0       0       0       0  \n",
      "165           0        0       0       0       0       0  \n",
      "166           0        0       0       0       0       0  \n",
      "167           0        0       0       0       0       0  \n",
      "168           1        1       0       0       0       0  \n",
      "169           0        0       0       0       0       0  \n",
      "170           0        0       0       0       0       0  \n",
      "171           0        0       0       0       0       0  \n",
      "172           0        0       0       0       0       0  \n",
      "173           0        0       0       0       0       0  \n",
      "174           0        0       0       0       0       0  \n",
      "175           0        0       0       0       0       0  \n",
      "176           0        0       0       0       0       0  \n",
      "177           0        0       0       0       0       0  \n",
      "178           0        0       0       0       0       0  \n",
      "179           0        0       0       0       0       0  \n",
      "\n",
      "[180 rows x 180 columns]\n"
     ]
    }
   ],
   "source": [
    "df = pd.read_csv('0_.__cache-ben__home__cuckoo__gptest__dataset__benign_sample__ameacdneu.pdf_.csv')\n",
    "print(df)"
   ]
  },
  {
   "cell_type": "code",
   "execution_count": 3,
   "id": "51f8a62a",
   "metadata": {},
   "outputs": [],
   "source": [
    "file_path = '/home/eunbinlee/graph_data'"
   ]
  },
  {
   "cell_type": "code",
   "execution_count": 4,
   "id": "ebfa19c8",
   "metadata": {},
   "outputs": [],
   "source": [
    "def extract_label(file_path):\n",
    "    filename, _ = os.path.splitext(os.path.basename(file_path))\n",
    "    MorB, etc = filename.split('_._')\n",
    "    _, label = etc.split('_sample__')\n",
    "    \n",
    "    return np.array([MorB], dtype=np.uint16)\n",
    "    #여기서 dtype을 바꿔야하나?"
   ]
  },
  {
   "cell_type": "code",
   "execution_count": 5,
   "id": "122ed3e2",
   "metadata": {},
   "outputs": [
    {
     "name": "stdout",
     "output_type": "stream",
     "text": [
      "/home/eunbinlee/0_.__cache-ben__home__cuckoo__gptest__dataset__benign_sample__05co1120sfige.pdf.csv\n"
     ]
    }
   ],
   "source": [
    "print(os.path.abspath('0_.__cache-ben__home__cuckoo__gptest__dataset__benign_sample__05co1120sfige.pdf.csv'))"
   ]
  },
  {
   "cell_type": "code",
   "execution_count": 6,
   "id": "b8fa752e",
   "metadata": {},
   "outputs": [
    {
     "name": "stdout",
     "output_type": "stream",
     "text": [
      "/home/eunbinlee\n"
     ]
    }
   ],
   "source": [
    "print(os.getcwd())"
   ]
  },
  {
   "cell_type": "code",
   "execution_count": 7,
   "id": "565f3f17",
   "metadata": {},
   "outputs": [
    {
     "name": "stdout",
     "output_type": "stream",
     "text": [
      "['0_.__cache-ben__home__cuckoo__gptest__dataset__benign_sample__14granick_WAreply.pdf.csv', '0_.__cache-ben__home__cuckoo__gptest__dataset__benign_sample__08inccsnap.pdf.csv', '0_.__cache-ben__home__cuckoo__gptest__dataset__benign_sample__6-nirmita-narasimhan.pdf.csv', '0_.__cache-ben__home__cuckoo__gptest__dataset__benign_sample__08rppsbryant.pdf.csv', '0_.__cache-ben__home__cuckoo__gptest__dataset__benign_sample__15-keith-kupferschmid.pdf.csv', '0_.__cache-ben__home__cuckoo__gptest__dataset__benign_sample__06cofigfs.pdf.csv', '0_.__cache-ben__home__cuckoo__gptest__dataset__benign_sample__13montoro.pdf.csv', '0_.__cache-ben__home__cuckoo__gptest__dataset__benign_sample__17_sec_sop.pdf.csv', '0_.__cache-ben__home__cuckoo__gptest__dataset__benign_sample__5-dan-pescod.pdf.csv', '0_.__cache-ben__home__cuckoo__gptest__dataset__benign_sample__05co1120sfige.pdf.csv']\n"
     ]
    }
   ],
   "source": [
    "path = '/home/eunbinlee/graph_data/'\n",
    "\n",
    "#file_label에 파일명(label) 리스트 추가\n",
    "file_list = os.listdir(path)\n",
    "file_labels = [file for file in file_list if file.startswith('0')]\n",
    "\n",
    "print(file_labels)"
   ]
  },
  {
   "cell_type": "code",
   "execution_count": 8,
   "id": "b469fae4",
   "metadata": {},
   "outputs": [
    {
     "name": "stdout",
     "output_type": "stream",
     "text": [
      "358\n",
      "413\n",
      "193\n",
      "<class 'numpy.ndarray'>\n"
     ]
    }
   ],
   "source": [
    "#위 리스트에서 앞 3개의 파일만 가지고 옴\n",
    "#file_label에 대한 리스트 만들었으니 이젠 file 자체에 대한 2차원 array를 만들어보자\n",
    "files = []\n",
    "\n",
    "data1 = np.loadtxt('/home/eunbinlee/graph_data/0_.__cache-ben__home__cuckoo__gptest__dataset__benign_sample__14granick_WAreply.pdf.csv', skiprows=1, delimiter=\",\", dtype='int32')\n",
    "data2 = np.loadtxt('/home/eunbinlee/graph_data/0_.__cache-ben__home__cuckoo__gptest__dataset__benign_sample__08inccsnap.pdf.csv', skiprows=1, delimiter=\",\", dtype='int32')\n",
    "data3 = np.loadtxt('/home/eunbinlee/graph_data/0_.__cache-ben__home__cuckoo__gptest__dataset__benign_sample__6-nirmita-narasimhan.pdf.csv', skiprows=1, delimiter=\",\", dtype='int32')\n",
    "\n",
    "print(len(data1[0]))\n",
    "print(len(data2[0]))\n",
    "print(len(data3[0]))\n",
    "\n",
    "print(type(data1))\n",
    "\n",
    "#file = pd.read_csv(file for file in file_list if , delimiter=',')"
   ]
  },
  {
   "cell_type": "markdown",
   "id": "383831cf",
   "metadata": {},
   "source": [
    "### 서로 다른 길이의 데이터들 이어붙이는 keras 함수 : pad_sequences"
   ]
  },
  {
   "cell_type": "markdown",
   "id": "690f37fb",
   "metadata": {},
   "source": [
    "위에서 가장 길이가 긴 file의 row 길이가 413이라는 결과를 얻었으니 모든 길이를 413으로 맞춰주자."
   ]
  },
  {
   "cell_type": "code",
   "execution_count": 14,
   "id": "67aec72a",
   "metadata": {},
   "outputs": [
    {
     "name": "stdout",
     "output_type": "stream",
     "text": [
      "[[-1 -1 -1 ...  0  0  0]\n",
      " [-1 -1 -1 ...  0  0  0]\n",
      " [-1 -1 -1 ...  0  0  0]\n",
      " ...\n",
      " [-1 -1 -1 ...  0  0  0]\n",
      " [-1 -1 -1 ...  0  0  0]\n",
      " [-1 -1 -1 ...  0  0  0]]\n",
      "[[0 0 0 ... 0 0 0]\n",
      " [0 0 1 ... 0 0 0]\n",
      " [0 0 0 ... 0 0 0]\n",
      " ...\n",
      " [0 0 0 ... 0 0 0]\n",
      " [0 0 0 ... 0 0 0]\n",
      " [0 0 0 ... 0 0 0]]\n",
      "[[-1 -1 -1 ...  0  0  0]\n",
      " [-1 -1 -1 ...  0  0  0]\n",
      " [-1 -1 -1 ...  0  0  0]\n",
      " ...\n",
      " [-1 -1 -1 ...  0  0  0]\n",
      " [-1 -1 -1 ...  0  0  0]\n",
      " [-1 -1 -1 ...  0  0  0]]\n"
     ]
    }
   ],
   "source": [
    "#https://machinelearningmastery.com/data-preparation-variable-length-input-sequences-sequence-prediction/\n",
    "from keras.preprocessing.sequence import pad_sequences\n",
    "from keras import backend as K\n",
    "\n",
    "data11 = pad_sequences(data1, maxlen=413, value=-1)\n",
    "data22 = pad_sequences(data2, maxlen=413, value=-1)\n",
    "data33 = pad_sequences(data3, maxlen=413, value=-1)\n",
    "\n",
    "print(data11)\n",
    "print(data22)\n",
    "print(data33)"
   ]
  },
  {
   "cell_type": "markdown",
   "id": "75f0fa4e",
   "metadata": {},
   "source": [
    "* 지금까지 한 작업은? \n",
    "각 array들의 column의 길이를 413으로 맞춰서 -1로 padding 해주었음. 즉 가로 길이를 맞춰줬다.\n",
    "지금은 얘네 다 따로 array 만들어서 padding 해줬는데, 이 array들을 unique한 column 기준으로 합한 다음에 패딩해주는 작업이 필요.\n",
    "\n",
    "* 그 다음엔?\n",
    "termination point는 어떻게 설정해주는가 고민해보자"
   ]
  },
  {
   "cell_type": "code",
   "execution_count": null,
   "id": "2a390224",
   "metadata": {},
   "outputs": [],
   "source": []
  },
  {
   "cell_type": "code",
   "execution_count": null,
   "id": "158b9de1",
   "metadata": {},
   "outputs": [],
   "source": [
    "# import glob\n",
    "# import natsort\n",
    "\n",
    "# file_list = sorted(glob.glob('/graph_data/*.csv'))\n",
    "# file_list = natsort.natsorted(file_list, reverse=False)\n",
    "\n",
    "# print(file_list)\n",
    "\n",
    "# #file 크기가 각각 달라서 해결해야 함\n",
    "# #file의 max 길이 구하는 함수 찾아서 max length 넣기\n",
    "# file = np.empty((len(file_list), 9999, 9999), dtype=np.uint16)\n",
    "# labels = np.empty(len(file_list), dtype=np.uint16)\n",
    "\n",
    "# for i, file_list in enumerate(file_list):\n",
    "#   file = pd.read_csv(file_path, engine='python')\n",
    "#   #Error tokenizing data. C error: Calling read(nbytes) on source failed. Try engine='python'.\n",
    "#   file[i] = file\n",
    "#   labels[i] = extract_label(file_path)\n",
    "\n",
    "\n",
    "# print(len(file_list))\n",
    "# #variable length to input level \n",
    "# #keras에서 제공하는 함수 사용해보기\n",
    "# #자동으로 길이가 다른 파일들에 대해서 처리 (termination point를 설정해줘야할 것)\n",
    "\n",
    "# #혜령이 아이디어) \n",
    "# #첫번째 row 읽어보고 유니크하게 만들어보고 빈 곳은 -1로 채워보는 방법\n",
    "\n",
    "# #column을 먼저 맞추고 나서 row에 대한 처리는 keras로 해보기"
   ]
  },
  {
   "cell_type": "code",
   "execution_count": null,
   "id": "632376d2",
   "metadata": {},
   "outputs": [],
   "source": [
    "# pip install natsort"
   ]
  },
  {
   "cell_type": "code",
   "execution_count": null,
   "id": "46b8ad2b",
   "metadata": {},
   "outputs": [],
   "source": [
    "      "
   ]
  },
  {
   "cell_type": "code",
   "execution_count": null,
   "id": "0dec48e5",
   "metadata": {},
   "outputs": [],
   "source": []
  },
  {
   "cell_type": "code",
   "execution_count": null,
   "id": "29d2bef7",
   "metadata": {},
   "outputs": [],
   "source": []
  },
  {
   "cell_type": "code",
   "execution_count": null,
   "id": "844aa5e5",
   "metadata": {},
   "outputs": [],
   "source": []
  },
  {
   "cell_type": "code",
   "execution_count": null,
   "id": "b105ae51",
   "metadata": {},
   "outputs": [],
   "source": []
  },
  {
   "cell_type": "code",
   "execution_count": null,
   "id": "0834722c",
   "metadata": {},
   "outputs": [],
   "source": []
  }
 ],
 "metadata": {
  "kernelspec": {
   "display_name": "Python 3",
   "language": "python",
   "name": "python3"
  },
  "language_info": {
   "codemirror_mode": {
    "name": "ipython",
    "version": 3
   },
   "file_extension": ".py",
   "mimetype": "text/x-python",
   "name": "python",
   "nbconvert_exporter": "python",
   "pygments_lexer": "ipython3",
   "version": "3.6.5"
  }
 },
 "nbformat": 4,
 "nbformat_minor": 5
}
